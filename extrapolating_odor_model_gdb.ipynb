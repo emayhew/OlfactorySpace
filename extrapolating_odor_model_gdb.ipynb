{
  "cells": [
    {
      "cell_type": "markdown",
      "metadata": {
        "id": "6TkBEXgHd85-"
      },
      "source": [
        "## Extrapolating Odor/Odorless calculations to GDB\n",
        "\n",
        "This notebook describes some sanity checks for specific functional groups and computations for extrapolating the odor/odorless model to GDB-17."
      ]
    },
    {
      "cell_type": "code",
      "execution_count": null,
      "metadata": {
        "id": "8QbrL9FkRizt"
      },
      "outputs": [],
      "source": [
        "import collections\n",
        "import functools\n",
        "import os\n",
        "\n",
        "from typing import Iterable, Iterator, Optional\n",
        "\n",
        "import altair as alt\n",
        "import matplotlib.pyplot as plt\n",
        "import numpy as np\n",
        "import pandas as pd\n",
        "from rdkit import Chem\n",
        "from rdkit import DataStructs\n",
        "from rdkit.Chem import Crippen\n",
        "from rdkit.Chem import Descriptors\n",
        "from rdkit.Chem import rdMolDescriptors\n",
        "import seaborn as sns\n",
        "import sklearn.ensemble\n",
        "import sklearn.metrics\n",
        "import sklearn.model_selection\n",
        "import tqdm"
      ]
    },
    {
      "cell_type": "code",
      "execution_count": null,
      "metadata": {
        "id": "UZ7PkJnARheY"
      },
      "outputs": [],
      "source": [
        "def load_csv(filename):\n",
        "  return pd.read_csv(filename, encoding='utf-8')"
      ]
    },
    {
      "cell_type": "markdown",
      "metadata": {
        "id": "l9KG5S8B2KGO"
      },
      "source": [
        "## Load data\n"
      ]
    },
    {
      "cell_type": "code",
      "execution_count": null,
      "metadata": {
        "executionInfo": {
          "elapsed": 8255,
          "status": "ok",
          "timestamp": 1646161279372,
          "user": {
            "displayName": "",
            "photoUrl": "",
            "userId": ""
          },
          "user_tz": 300
        },
        "id": "gD60LT9GZhw8",
        "outputId": "a53f6608-368d-4552-a363-970f8a07a56b"
      },
      "outputs": [
        {
          "name": "stdout",
          "output_type": "stream",
          "text": [
            "1924 entries in the raw data\n",
            "1615 / 1924 entries are odorous\n",
            "dataset.assigned\n",
            "test            30\n",
            "train         1864\n",
            "validation      30\n",
            "Name: odor, dtype: int64\n"
          ]
        }
      ],
      "source": [
        "all_df = load_csv('data/AllTransportData.csv')\n",
        "# Remove hypervalent halogen compounds, which throws validation errors.\n",
        "def _is_valid_smiles(smiles: str) -> bool:\n",
        "  \"\"\"Check if smiles string is legal, first syntax than chemistry.\n",
        "\n",
        "  Currently, all sanitization routines are applied. See rdkit documentation:\n",
        "  https://www.rdkit.org/docs/source/rdkit.Chem.rdmolops.html#rdkit.Chem.rdmolops.SanitizeFlags\n",
        "\n",
        "  Args:\n",
        "    smiles: The SMILES string (possibly illegal)\n",
        "\n",
        "  Returns:\n",
        "    Whether smiles is valid and passes sanitization checks.\n",
        "  \"\"\"\n",
        "  # Pandas generates NaN (technically a \"float\") for empty rows.\n",
        "  if not isinstance(smiles, (bytes, str)):\n",
        "    return False\n",
        "  mol = Chem.MolFromSmiles(smiles, sanitize=False)\n",
        "  if mol is None:\n",
        "    return False\n",
        "  try:\n",
        "    Chem.SanitizeMol(mol)\n",
        "    return True\n",
        "  except ValueError:\n",
        "    return False\n",
        "clean_df = all_df[all_df['SMILES'].apply(_is_valid_smiles)]\n",
        "clean_df = clean_df.set_index('SMILES')\n",
        "print(\"{} entries in the raw data\".format(len(clean_df)))\n",
        "print(\"{} / {} entries are odorous\".format(sum(clean_df['odor'] == 'Odor'), len(clean_df)))\n",
        "print(clean_df.groupby('dataset.assigned')['odor'].count())"
      ]
    },
    {
      "cell_type": "code",
      "execution_count": null,
      "metadata": {
        "id": "97w2tJZ0Zpvq"
      },
      "outputs": [],
      "source": [
        "duplicated_smiles_mask = all_df.duplicated('SMILES', keep=False)\n",
        "assert sum(duplicated_smiles_mask) == 0, 'Duplicated SMILES found!'\n",
        "clean_df['mols'] = [Chem.MolFromSmiles(s) for s in clean_df.index]\n",
        "clean_df['crippen_logp'] = [Crippen.MolLogP(m) for m in clean_df['mols']]"
      ]
    },
    {
      "cell_type": "code",
      "execution_count": null,
      "metadata": {
        "colab": {
          "height": 312
        },
        "executionInfo": {
          "elapsed": 273,
          "status": "ok",
          "timestamp": 1646161280540,
          "user": {
            "displayName": "",
            "photoUrl": "",
            "userId": ""
          },
          "user_tz": 300
        },
        "id": "zDOMDr8YNw4S",
        "outputId": "f2cfef77-cc31-4fd6-8dbc-7395c95bff0b"
      },
      "outputs": [
        {
          "data": {
            "text/plain": [
              "(-52.515754780300014, 1191.7129452196998, -52.55285, 1191.6758499999999)"
            ]
          },
          "execution_count": 6,
          "metadata": {},
          "output_type": "execute_result"
        },
        {
          "data": {
            "image/png": "[encoded data removed]",
            "text/plain": [
              "<Figure size 600x400 with 1 Axes>"
            ]
          },
          "metadata": {},
          "output_type": "display_data"
        }
      ],
      "source": [
        "# Is our molecular weight calculation the same as dragon?\n",
        "mw = [Descriptors.ExactMolWt(m) for m in clean_df['mols']]\n",
        "plt.plot(mw, clean_df.MW, '.')\n",
        "plt.xlabel('RDKit MW')\n",
        "plt.ylabel('Dragon MW')\n",
        "plt.title('Comparing RDKit and Dragon MW')\n",
        "plt.axis('square');\n",
        "# Yes it is."
      ]
    },
    {
      "cell_type": "code",
      "execution_count": null,
      "metadata": {
        "colab": {
          "height": 312
        },
        "executionInfo": {
          "elapsed": 494,
          "status": "ok",
          "timestamp": 1646161281189,
          "user": {
            "displayName": "",
            "photoUrl": "",
            "userId": ""
          },
          "user_tz": 300
        },
        "id": "Oe30oj157i_o",
        "outputId": "5200f62b-e94a-4775-ee0c-1d95c424b154"
      },
      "outputs": [
        {
          "data": {
            "text/plain": [
              "(-50.0, 1000.0)"
            ]
          },
          "execution_count": 7,
          "metadata": {},
          "output_type": "execute_result"
        },
        {
          "data": {
            "image/png": "[encoded data removed]",
            "text/plain": [
              "<Figure size 1000x400 with 2 Axes>"
            ]
          },
          "metadata": {},
          "output_type": "display_data"
        }
      ],
      "source": [
        "LIMITS = [-50, 1000]\n",
        "# Does our Burnop BP calculation match the experimental/estimated BP?\n",
        "plt.figure(figsize=(10,4))\n",
        "gs = plt.GridSpec(1, 2, wspace=0.25)\n",
        "plt.subplot(gs[0])\n",
        "plt.plot(clean_df['boiling.point.estimate.Burnop'], clean_df.BPbest, '.')\n",
        "plt.plot(LIMITS, LIMITS, '--k')\n",
        "plt.xlabel('Burnop BP')\n",
        "plt.ylabel('Experimental or EPIsuite estimated BP')\n",
        "plt.title('Comparing Burnop BP to EPISuite BP')\n",
        "plt.axis('square')\n",
        "plt.xlim(*LIMITS)\n",
        "plt.ylim(*LIMITS)\n",
        "\n",
        "# Banks BP seems to systematically underestimate the EPISuite BP, though. What's that about?\n",
        "plt.subplot(gs[1])\n",
        "plt.plot(clean_df['boiling.point.estimate.Banks'], clean_df.BPbest, '.')\n",
        "plt.plot(LIMITS, LIMITS, '--k')\n",
        "plt.xlabel('Banks BP')\n",
        "plt.ylabel('Experimental or EPIsuite estimated BP')\n",
        "plt.title('Comparing Banks BP to EPISuite BP')\n",
        "plt.axis('square');\n",
        "plt.xlim(*LIMITS)\n",
        "plt.ylim(*LIMITS)\n"
      ]
    },
    {
      "cell_type": "code",
      "execution_count": null,
      "metadata": {
        "colab": {
          "height": 327
        },
        "executionInfo": {
          "elapsed": 287,
          "status": "ok",
          "timestamp": 1646161281633,
          "user": {
            "displayName": "",
            "photoUrl": "",
            "userId": ""
          },
          "user_tz": 300
        },
        "id": "M6pkPwvrOEWP",
        "outputId": "5fdd7c00-56c9-410b-9416-58db3320e2b4"
      },
      "outputs": [
        {
          "data": {
            "text/plain": [
              "(-10.0, 10.0)"
            ]
          },
          "execution_count": 8,
          "metadata": {},
          "output_type": "execute_result"
        },
        {
          "data": {
            "image/png": "[encoded data removed]",
            "text/plain": [
              "<Figure size 600x400 with 1 Axes>"
            ]
          },
          "metadata": {},
          "output_type": "display_data"
        }
      ],
      "source": [
        "# How does Crippen LogP match onto MLOGP?\n",
        "plt.plot(clean_df.crippen_logp, clean_df.MLOGP, '.')\n",
        "plt.plot([-10, 10], [-10, 10], '--k')\n",
        "plt.xlabel('Crippen LogP')\n",
        "plt.ylabel('Moriguchi LogP')\n",
        "plt.title('Comparing Crippen and Moriguchi LogP\\nClipped to (-10, 10)');\n",
        "plt.axis('square')\n",
        "plt.xlim(-10, 10)\n",
        "plt.ylim(-10, 10)"
      ]
    },
    {
      "cell_type": "code",
      "execution_count": null,
      "metadata": {
        "id": "qWnBuIPwtBM2"
      },
      "outputs": [],
      "source": [
        "def rule_of_three_score(train_x, train_y, test_x, bp_to_use):\n",
        "  \"\"\"Rule of 3: 30 < MW < 300; numHeteroatoms < 3.\n",
        "\n",
        "  The mw/heteroatam balance is chosen so that a maximum score is obtained when\n",
        "  MW = avg(30, 300) and numHetAtoms = 0\n",
        "  and also that a score of precisely 0 is obtained when\n",
        "  (MW = avg(30, 300) and numHetAtoms = 3)  OR (MW = 30 and numHetAtoms = 0) OR (MW = 300 and numHetAtoms = 0)\n",
        "  \"\"\"\n",
        "  mw_score = np.minimum(test_x['MW'] - 30, 300 - test_x['MW'])\n",
        "  heteroatom_score = np.array([rdMolDescriptors.CalcNumHeteroatoms(mol) for mol in test_x['mols']]) * -(30 + 300) / 2 / 3\n",
        "  return (mw_score + heteroatom_score).to_numpy()\n"
      ]
    },
    {
      "cell_type": "markdown",
      "metadata": {
        "id": "sej7rYFkZamC"
      },
      "source": [
        "# Domains of Validity for odor/odorless models\n",
        "\n",
        "Different models might have different weaknesses. Can we draw any conclusions\n",
        "about the performance of some models on various input classes?"
      ]
    },
    {
      "cell_type": "code",
      "execution_count": null,
      "metadata": {
        "id": "9-MxFZs1g08E"
      },
      "outputs": [],
      "source": [
        "fragment_queries = {\n",
        "  'Benzene': ('c1ccccc1', False),\n",
        "  'Ester': ('[CX3](=O)O[#6]', False),\n",
        "  'Carboxylic Acid': ('[CX3](=O)[OX2H1]', False),\n",
        "  'Aldehyde or ketone': ('[$([#6][CX3](=O)[#6]),$([#6][CX3H1](=O))]', False),\n",
        "  'Alkyl (4+ carbon chain)': ('[CH2X4][CH2X4][CH2X4][CH2X4]', False),\n",
        "  'Amine': ('[NX3;H2,H1,H0;!$(NC=O);!$(NO)]', False),\n",
        "  'Organohalide': ('[#6][#9,#17,#35,#53]', False),\n",
        "  'Hydroxyl': ('[C;!$(C=O)][OX2H]', False),\n",
        "  'Ether': ('[!$(C=O);$([C&!a])][OX2&H0][!$(C=O);#6]', False),\n",
        "  'Inorganic': ('[#6]', True),\n",
        "  'Organosulfide': ('[SX2][#6]', False),\n",
        "}\n",
        "# The following fragments were tested but excluded from analysis due to tiny sample sizes or lack of odorous molecules.\n",
        "#  'Phosphate': '[$(P(~O)(~O)~O)]',\n",
        "#  'Nitro': '[NX3;$(N(~O)~O)]',\n",
        "#  'Organosulfide': '[SX2][#6]',\n",
        "#  'Metal-containing': '[Li,Na,K,Rb,Cs,Be,Mg,Ca,Sr,Ba,Sc,Ti,V,Cr,Mn,Fe,Co,Ni,Cu,Zn,Y,Zr,Nb,Mo,Tc,Ru,Rh,Pd,Ag,Al,Ta,Tl,Sn,Pb,Os,Hg,U]'"
      ]
    },
    {
      "cell_type": "markdown",
      "metadata": {
        "id": "gmyHyaJHB0q_"
      },
      "source": [
        "## Construct an ensemble of random train-test splits\n",
        "\n",
        "This step is needed for narrower CIs on our AUROC measurements. Otherwise, each test slice has too few molecules to give a reliable AUROC metric."
      ]
    },
    {
      "cell_type": "code",
      "execution_count": null,
      "metadata": {
        "id": "JZGobumHBz__"
      },
      "outputs": [],
      "source": [
        "# Code to create splits from scratch.\n",
        "# Has random seed so it should be somewhat reproducible.\n",
        "NUM_SPLITS = 80\n",
        "splits_array = np.zeros(shape=(NUM_SPLITS, len(clean_df))) # Array indicating which molecules are in which splits.\n",
        "for random_seed in range(NUM_SPLITS):\n",
        "  train_ids, test_ids = sklearn.model_selection.train_test_split(\n",
        "      np.arange(len(clean_df)), test_size=0.2, random_state=random_seed)\n",
        "  train_ids.sort(); test_ids.sort()\n",
        "  train_x, test_x = clean_df.iloc[train_ids], clean_df.iloc[test_ids]\n",
        "  train_y = clean_df.iloc[train_ids]['odor'] == 'Odor'\n",
        "  splits_array[random_seed, train_ids] = 1\n",
        "\n",
        "assert splits_array.shape[0] == NUM_SPLITS\n",
        "splits_df = pd.DataFrame({\n",
        "    **{'split_{}'.format(i): splits_array[i]\n",
        "       for i in range(80)}}, index=clean_df.index)\n"
      ]
    },
    {
      "cell_type": "code",
      "execution_count": null,
      "metadata": {
        "id": "S9SjizTTt5x3"
      },
      "outputs": [],
      "source": [
        "# Here's the actual splits we used, for full reproducibility.\n",
        "reconstructed_split_data = load_csv('data/Validity_XGB_all.csv').set_index('SMILES')\n",
        "splits_df = reconstructed_split_data.isna().astype(int)\n",
        "assert len(splits_df.columns) == NUM_SPLITS"
      ]
    },
    {
      "cell_type": "code",
      "execution_count": null,
      "metadata": {
        "id": "mP15zSLs_Edy"
      },
      "outputs": [],
      "source": [
        "def run_model_predictions(model, bp_to_use):\n",
        "  results_df = pd.DataFrame(index=splits_df.index, columns=splits_df.columns)\n",
        "  for split_column in tqdm.tqdm(splits_df.columns):\n",
        "    train_smiles = splits_df.index[splits_df[split_column] == 1].tolist()\n",
        "    train_x = clean_df.loc[train_smiles]\n",
        "    train_y = train_x['odor'] == 'Odor'\n",
        "    test_smiles = splits_df.index[splits_df[split_column] == 0].tolist()\n",
        "    test_x = clean_df.loc[test_smiles]\n",
        "    results_df.loc[splits_df[split_column] == 0, split_column] = model(train_x, train_y, test_x, bp_to_use)\n",
        "  return results_df"
      ]
    },
    {
      "cell_type": "code",
      "execution_count": null,
      "metadata": {
        "executionInfo": {
          "elapsed": 768,
          "status": "ok",
          "timestamp": 1646161283455,
          "user": {
            "displayName": "",
            "photoUrl": "",
            "userId": ""
          },
          "user_tz": 300
        },
        "id": "YQ6Gdg_VuyMe",
        "outputId": "06cca5be-333e-4726-f688-c702a431c922"
      },
      "outputs": [
        {
          "name": "stderr",
          "output_type": "stream",
          "text": [
            "100%|██████████| 80/80 [00:00<00:00, 137.24it/s]\n"
          ]
        }
      ],
      "source": [
        "model_predictions = {\n",
        "    'Rule of 3': run_model_predictions(rule_of_three_score, 'BPbest'),\n",
        "    'Transport ML': load_csv('data/Validity_XGB_transport.csv').set_index('SMILES'),\n",
        "    'Many-Feature ML': load_csv('data/Validity_XGB_all.csv').set_index('SMILES'),\n",
        "}"
      ]
    },
    {
      "cell_type": "code",
      "execution_count": null,
      "metadata": {
        "executionInfo": {
          "elapsed": 24710,
          "status": "ok",
          "timestamp": 1646161308257,
          "user": {
            "displayName": "",
            "photoUrl": "",
            "userId": ""
          },
          "user_tz": 300
        },
        "id": "5i4eHiWCDzXc",
        "outputId": "6efb157c-4e95-4fef-e92a-baae9ef6d5de"
      },
      "outputs": [
        {
          "name": "stderr",
          "output_type": "stream",
          "text": [
            "100%|██████████| 11/11 [00:08<00:00,  1.37it/s]\n",
            "100%|██████████| 11/11 [00:08<00:00,  1.33it/s]\n",
            "100%|██████████| 11/11 [00:08<00:00,  1.32it/s]\n"
          ]
        }
      ],
      "source": [
        "model_logic_rows = []\n",
        "# For each model...\n",
        "for model_name, model_df in model_predictions.items():\n",
        "  # For each query...\n",
        "  for query_name, (query_logic, invert_logic) in tqdm.tqdm(fragment_queries.items(), position=0):\n",
        "    # Compute AUROCs across the ensemble of train/test splits, then take 95% CI.\n",
        "    bootstrap_samples = []\n",
        "    for split_column in model_df.columns:\n",
        "      split_smiles = model_df.index[~model_df[split_column].isna()]\n",
        "      split_mols = clean_df.loc[split_smiles, 'mols']\n",
        "      split_test_y = clean_df.loc[split_smiles, 'odor'] == 'Odor'\n",
        "      fragment_subset = split_smiles[split_mols.map(\n",
        "        lambda mol: mol.HasSubstructMatch(Chem.MolFromSmarts(query_logic)) != invert_logic)]\n",
        "      fragment_pred_y = model_df.loc[fragment_subset, split_column]\n",
        "      fragment_test_y = split_test_y.loc[fragment_subset]\n",
        "      try:\n",
        "        bootstrap_samples.append(sklearn.metrics.roc_auc_score(fragment_test_y, fragment_pred_y))\n",
        "      except ValueError:\n",
        "        pass\n",
        "    bootstrap_samples = sorted(bootstrap_samples)\n",
        "    midpoint = bootstrap_samples[len(bootstrap_samples)//2]\n",
        "    lower, upper = bootstrap_samples[1], bootstrap_samples[-2] # 2.5% and 97.5% estimates from sample size 80.\n",
        "    model_logic_rows.append(collections.OrderedDict((\n",
        "        ('Model', model_name),\n",
        "        ('bootstraps', len(bootstrap_samples)),\n",
        "        ('Chemical class', query_name),\n",
        "        ('AUROC', midpoint), \n",
        "        ('AUROC_lower', lower),\n",
        "        ('AUROC_upper', upper),\n",
        "    )))\n",
        "\n"
      ]
    },
    {
      "cell_type": "code",
      "execution_count": null,
      "metadata": {
        "id": "sBFS_BF19mCc"
      },
      "outputs": [],
      "source": [
        "logic_counts = {}\n",
        "for logic_name, (query_logic, invert_logic) in fragment_queries.items():\n",
        "  matching_mols = clean_df['mols'].map(\n",
        "        lambda mol: mol.HasSubstructMatch(Chem.MolFromSmarts(query_logic)))\n",
        "  if invert_logic:\n",
        "    matching_mols = np.logical_not(matching_mols)\n",
        "  logic_counts[logic_name] = sum(matching_mols)\n",
        "\n",
        "for row in model_logic_rows:\n",
        "  row['Chemical class'] = row['Chemical class'] + ' ({})'.format(logic_counts[row['Chemical class']])"
      ]
    },
    {
      "cell_type": "code",
      "execution_count": null,
      "metadata": {
        "id": "Kub-XOFwJ5PM"
      },
      "outputs": [],
      "source": [
        "validity_df = pd.DataFrame(model_logic_rows)\n",
        "validity_df['AUROC_pretty'] = validity_df.apply(lambda row: '%.2f (%.2f, %.2f)' % (row['AUROC'], row['AUROC_lower'], row['AUROC_upper']), axis=1)"
      ]
    },
    {
      "cell_type": "code",
      "execution_count": null,
      "metadata": {
        "executionInfo": {
          "elapsed": 61,
          "status": "ok",
          "timestamp": 1646161309532,
          "user": {
            "displayName": "",
            "photoUrl": "",
            "userId": ""
          },
          "user_tz": 300
        },
        "id": "yP4-JQs23Fpc",
        "outputId": "c221ab43-5806-496f-cf36-ff2cf2772d12"
      },
      "outputs": [
        {
          "name": "stdout",
          "output_type": "stream",
          "text": [
            "Chemical class  Aldehyde or ketone (185) Alkyl (4+ carbon chain) (261)        Amine (280)      Benzene (545) Carboxylic Acid (92)        Ester (288)        Ether (228)     Hydroxyl (243)     Inorganic (99) Organohalide (338) Organosulfide (121)\n",
            "Model                                                                                                                                                                                                                                               \n",
            "Many-Feature ML        0.98 (0.87, 1.00)             0.97 (0.92, 1.00)  0.94 (0.84, 0.99)  0.92 (0.83, 0.96)    0.91 (0.73, 1.00)  0.96 (0.89, 1.00)  0.93 (0.84, 1.00)  0.95 (0.85, 1.00)  0.88 (0.61, 1.00)  0.93 (0.84, 0.97)   0.95 (0.78, 1.00)\n",
            "Rule of 3              0.97 (0.86, 1.00)             0.96 (0.88, 1.00)  0.87 (0.75, 0.96)  0.81 (0.69, 0.88)    0.82 (0.59, 1.00)  0.92 (0.76, 0.99)  0.88 (0.78, 0.99)  0.93 (0.83, 1.00)  0.32 (0.07, 0.55)  0.84 (0.71, 0.93)   0.95 (0.74, 1.00)\n",
            "Transport ML           0.98 (0.89, 1.00)             0.96 (0.86, 1.00)  0.93 (0.83, 0.99)  0.89 (0.79, 0.96)    0.92 (0.67, 1.00)  0.96 (0.85, 1.00)  0.90 (0.78, 0.99)  0.93 (0.85, 0.99)  0.85 (0.62, 0.95)  0.91 (0.84, 0.98)   0.92 (0.75, 1.00)\n"
          ]
        }
      ],
      "source": [
        "print(validity_df.pivot(index='Model', columns='Chemical class', values='AUROC_pretty').to_string())"
      ]
    },
    {
      "cell_type": "code",
      "execution_count": null,
      "metadata": {
        "colab": {
          "height": 193
        },
        "executionInfo": {
          "elapsed": 73,
          "status": "ok",
          "timestamp": 1646162440241,
          "user": {
            "displayName": "",
            "photoUrl": "",
            "userId": ""
          },
          "user_tz": 300
        },
        "id": "lBb_LmechIQn",
        "outputId": "4324492d-c18b-46be-fc90-38e33d1e79bf"
      },
      "outputs": [
        {
          "data": {
            "application/javascript": [
              "window[\"aece30a4-9994-11ec-b907-ebac73db160e\"] = colab.output.loadScriptSync(\"https://ssl.gstatic.com/colaboratory-static/assets/vega/92c21cd2a9836ec2/vega.min.js\");\n",
              "//# sourceURL=js_b69ba5133b"
            ],
            "text/plain": [
              "<IPython.core.display.Javascript object>"
            ]
          },
          "metadata": {},
          "output_type": "display_data"
        },
        {
          "data": {
            "application/javascript": [
              "window[\"aece5174-9994-11ec-b907-ebac73db160e\"] = colab.output.loadScriptSync(\"https://ssl.gstatic.com/colaboratory-static/assets/vega_lite/6f3f2a4771fab26d/vega-lite.min.js\");\n",
              "//# sourceURL=js_d6a1eb45c0"
            ],
            "text/plain": [
              "<IPython.core.display.Javascript object>"
            ]
          },
          "metadata": {},
          "output_type": "display_data"
        },
        {
          "data": {
            "application/javascript": [
              "window[\"aece6f9c-9994-11ec-b907-ebac73db160e\"] = colab.output.loadScriptSync(\"https://ssl.gstatic.com/colaboratory-static/assets/vega_embed/3fac45628c446f2c/vega-embed.min.js\");\n",
              "//# sourceURL=js_aafc79ec95"
            ],
            "text/plain": [
              "<IPython.core.display.Javascript object>"
            ]
          },
          "metadata": {},
          "output_type": "display_data"
        },
        {
          "data": {
            "application/javascript": [
              "\n",
              "(function() {\n",
              "  let {spec, opt, chartID} = {\"spec\": {\"config\": {\"view\": {\"continuousWidth\": 400, \"continuousHeight\": 300}, \"axis\": {\"labelFont\": \"Arial\", \"labelFontSize\": 8, \"titleFont\": \"Arial\", \"titleFontSize\": 9}, \"axisX\": {\"labelAlign\": \"right\", \"labelAngle\": -45, \"labelOffset\": 0}, \"legend\": {\"labelFont\": \"Arial\", \"labelFontSize\": 8, \"titleFont\": \"Arial\", \"titleFontSize\": 9}}, \"data\": {\"name\": \"data-3b47f952289cf78e646734ab8d882049\"}, \"mark\": \"rect\", \"encoding\": {\"color\": {\"type\": \"quantitative\", \"field\": \"AUROC\", \"scale\": {\"domain\": [0, 1], \"scheme\": \"pinkyellowgreen\"}}, \"x\": {\"type\": \"nominal\", \"axis\": {\"tickBand\": \"extent\"}, \"field\": \"Chemical class\", \"sort\": {\"field\": \"AUROC\", \"op\": \"sum\", \"order\": \"descending\"}}, \"y\": {\"type\": \"nominal\", \"axis\": {\"tickBand\": \"extent\"}, \"field\": \"Model\", \"sort\": [\"Many-Feature ML\", \"Transport ML\", \"Rule of 3\"]}}, \"$schema\": \"https://vega.github.io/schema/vega-lite/v4.8.1.json\", \"datasets\": {\"data-3b47f952289cf78e646734ab8d882049\": [{\"Model\": \"Rule of 3\", \"bootstraps\": 80, \"Chemical class\": \"Benzene (545)\", \"AUROC\": 0.813880706921944, \"AUROC_lower\": 0.6861081654294804, \"AUROC_upper\": 0.8819277108433736, \"AUROC_pretty\": \"0.81 (0.69, 0.88)\"}, {\"Model\": \"Rule of 3\", \"bootstraps\": 80, \"Chemical class\": \"Ester (288)\", \"AUROC\": 0.916, \"AUROC_lower\": 0.7627118644067796, \"AUROC_upper\": 0.9857142857142857, \"AUROC_pretty\": \"0.92 (0.76, 0.99)\"}, {\"Model\": \"Rule of 3\", \"bootstraps\": 80, \"Chemical class\": \"Carboxylic Acid (92)\", \"AUROC\": 0.8229166666666667, \"AUROC_lower\": 0.5857142857142859, \"AUROC_upper\": 1.0, \"AUROC_pretty\": \"0.82 (0.59, 1.00)\"}, {\"Model\": \"Rule of 3\", \"bootstraps\": 79, \"Chemical class\": \"Aldehyde or ketone (185)\", \"AUROC\": 0.9736842105263158, \"AUROC_lower\": 0.8552631578947368, \"AUROC_upper\": 1.0, \"AUROC_pretty\": \"0.97 (0.86, 1.00)\"}, {\"Model\": \"Rule of 3\", \"bootstraps\": 78, \"Chemical class\": \"Alkyl (4+ carbon chain) (261)\", \"AUROC\": 0.9647058823529412, \"AUROC_lower\": 0.8840579710144927, \"AUROC_upper\": 1.0, \"AUROC_pretty\": \"0.96 (0.88, 1.00)\"}, {\"Model\": \"Rule of 3\", \"bootstraps\": 80, \"Chemical class\": \"Amine (280)\", \"AUROC\": 0.8687499999999999, \"AUROC_lower\": 0.7485207100591715, \"AUROC_upper\": 0.957070707070707, \"AUROC_pretty\": \"0.87 (0.75, 0.96)\"}, {\"Model\": \"Rule of 3\", \"bootstraps\": 80, \"Chemical class\": \"Organohalide (338)\", \"AUROC\": 0.8429118773946359, \"AUROC_lower\": 0.7088888888888889, \"AUROC_upper\": 0.9257142857142856, \"AUROC_pretty\": \"0.84 (0.71, 0.93)\"}, {\"Model\": \"Rule of 3\", \"bootstraps\": 80, \"Chemical class\": \"Hydroxyl (243)\", \"AUROC\": 0.9308823529411765, \"AUROC_lower\": 0.8333333333333334, \"AUROC_upper\": 0.9952380952380953, \"AUROC_pretty\": \"0.93 (0.83, 1.00)\"}, {\"Model\": \"Rule of 3\", \"bootstraps\": 80, \"Chemical class\": \"Ether (228)\", \"AUROC\": 0.8814102564102564, \"AUROC_lower\": 0.7845238095238095, \"AUROC_upper\": 0.9903846153846154, \"AUROC_pretty\": \"0.88 (0.78, 0.99)\"}, {\"Model\": \"Rule of 3\", \"bootstraps\": 80, \"Chemical class\": \"Inorganic (99)\", \"AUROC\": 0.32222222222222224, \"AUROC_lower\": 0.075, \"AUROC_upper\": 0.5512820512820513, \"AUROC_pretty\": \"0.32 (0.07, 0.55)\"}, {\"Model\": \"Rule of 3\", \"bootstraps\": 42, \"Chemical class\": \"Organosulfide (121)\", \"AUROC\": 0.9523809523809523, \"AUROC_lower\": 0.7407407407407407, \"AUROC_upper\": 1.0, \"AUROC_pretty\": \"0.95 (0.74, 1.00)\"}, {\"Model\": \"Transport ML\", \"bootstraps\": 80, \"Chemical class\": \"Benzene (545)\", \"AUROC\": 0.8863287250384025, \"AUROC_lower\": 0.7851782363977486, \"AUROC_upper\": 0.9581128747795414, \"AUROC_pretty\": \"0.89 (0.79, 0.96)\"}, {\"Model\": \"Transport ML\", \"bootstraps\": 80, \"Chemical class\": \"Ester (288)\", \"AUROC\": 0.9551282051282051, \"AUROC_lower\": 0.8542372881355932, \"AUROC_upper\": 1.0, \"AUROC_pretty\": \"0.96 (0.85, 1.00)\"}, {\"Model\": \"Transport ML\", \"bootstraps\": 80, \"Chemical class\": \"Carboxylic Acid (92)\", \"AUROC\": 0.9166666666666667, \"AUROC_lower\": 0.6666666666666667, \"AUROC_upper\": 1.0, \"AUROC_pretty\": \"0.92 (0.67, 1.00)\"}, {\"Model\": \"Transport ML\", \"bootstraps\": 79, \"Chemical class\": \"Aldehyde or ketone (185)\", \"AUROC\": 0.98, \"AUROC_lower\": 0.8857142857142857, \"AUROC_upper\": 1.0, \"AUROC_pretty\": \"0.98 (0.89, 1.00)\"}, {\"Model\": \"Transport ML\", \"bootstraps\": 78, \"Chemical class\": \"Alkyl (4+ carbon chain) (261)\", \"AUROC\": 0.96, \"AUROC_lower\": 0.8555555555555556, \"AUROC_upper\": 1.0, \"AUROC_pretty\": \"0.96 (0.86, 1.00)\"}, {\"Model\": \"Transport ML\", \"bootstraps\": 80, \"Chemical class\": \"Amine (280)\", \"AUROC\": 0.9277777777777778, \"AUROC_lower\": 0.8333333333333334, \"AUROC_upper\": 0.985663082437276, \"AUROC_pretty\": \"0.93 (0.83, 0.99)\"}, {\"Model\": \"Transport ML\", \"bootstraps\": 80, \"Chemical class\": \"Organohalide (338)\", \"AUROC\": 0.9083710407239818, \"AUROC_lower\": 0.8437810945273633, \"AUROC_upper\": 0.9761904761904762, \"AUROC_pretty\": \"0.91 (0.84, 0.98)\"}, {\"Model\": \"Transport ML\", \"bootstraps\": 80, \"Chemical class\": \"Hydroxyl (243)\", \"AUROC\": 0.9279279279279279, \"AUROC_lower\": 0.8461538461538463, \"AUROC_upper\": 0.9885714285714287, \"AUROC_pretty\": \"0.93 (0.85, 0.99)\"}, {\"Model\": \"Transport ML\", \"bootstraps\": 80, \"Chemical class\": \"Ether (228)\", \"AUROC\": 0.9023809523809524, \"AUROC_lower\": 0.7777777777777778, \"AUROC_upper\": 0.9879807692307693, \"AUROC_pretty\": \"0.90 (0.78, 0.99)\"}, {\"Model\": \"Transport ML\", \"bootstraps\": 80, \"Chemical class\": \"Inorganic (99)\", \"AUROC\": 0.8455882352941178, \"AUROC_lower\": 0.6153846153846154, \"AUROC_upper\": 0.95, \"AUROC_pretty\": \"0.85 (0.62, 0.95)\"}, {\"Model\": \"Transport ML\", \"bootstraps\": 42, \"Chemical class\": \"Organosulfide (121)\", \"AUROC\": 0.9166666666666666, \"AUROC_lower\": 0.75, \"AUROC_upper\": 1.0, \"AUROC_pretty\": \"0.92 (0.75, 1.00)\"}, {\"Model\": \"Many-Feature ML\", \"bootstraps\": 80, \"Chemical class\": \"Benzene (545)\", \"AUROC\": 0.915151515151515, \"AUROC_lower\": 0.825984990619137, \"AUROC_upper\": 0.9639756944444445, \"AUROC_pretty\": \"0.92 (0.83, 0.96)\"}, {\"Model\": \"Many-Feature ML\", \"bootstraps\": 80, \"Chemical class\": \"Ester (288)\", \"AUROC\": 0.962962962962963, \"AUROC_lower\": 0.8945454545454545, \"AUROC_upper\": 0.9966777408637875, \"AUROC_pretty\": \"0.96 (0.89, 1.00)\"}, {\"Model\": \"Many-Feature ML\", \"bootstraps\": 80, \"Chemical class\": \"Carboxylic Acid (92)\", \"AUROC\": 0.9111111111111112, \"AUROC_lower\": 0.7254901960784315, \"AUROC_upper\": 1.0, \"AUROC_pretty\": \"0.91 (0.73, 1.00)\"}, {\"Model\": \"Many-Feature ML\", \"bootstraps\": 79, \"Chemical class\": \"Aldehyde or ketone (185)\", \"AUROC\": 0.980952380952381, \"AUROC_lower\": 0.8676470588235294, \"AUROC_upper\": 1.0, \"AUROC_pretty\": \"0.98 (0.87, 1.00)\"}, {\"Model\": \"Many-Feature ML\", \"bootstraps\": 78, \"Chemical class\": \"Alkyl (4+ carbon chain) (261)\", \"AUROC\": 0.9716312056737589, \"AUROC_lower\": 0.9219512195121952, \"AUROC_upper\": 1.0, \"AUROC_pretty\": \"0.97 (0.92, 1.00)\"}, {\"Model\": \"Many-Feature ML\", \"bootstraps\": 80, \"Chemical class\": \"Amine (280)\", \"AUROC\": 0.9434523809523809, \"AUROC_lower\": 0.8447204968944099, \"AUROC_upper\": 0.994949494949495, \"AUROC_pretty\": \"0.94 (0.84, 0.99)\"}, {\"Model\": \"Many-Feature ML\", \"bootstraps\": 80, \"Chemical class\": \"Organohalide (338)\", \"AUROC\": 0.9259259259259259, \"AUROC_lower\": 0.8377777777777777, \"AUROC_upper\": 0.9712820512820513, \"AUROC_pretty\": \"0.93 (0.84, 0.97)\"}, {\"Model\": \"Many-Feature ML\", \"bootstraps\": 80, \"Chemical class\": \"Hydroxyl (243)\", \"AUROC\": 0.9479166666666666, \"AUROC_lower\": 0.8518518518518519, \"AUROC_upper\": 1.0, \"AUROC_pretty\": \"0.95 (0.85, 1.00)\"}, {\"Model\": \"Many-Feature ML\", \"bootstraps\": 80, \"Chemical class\": \"Ether (228)\", \"AUROC\": 0.9342105263157895, \"AUROC_lower\": 0.8422459893048128, \"AUROC_upper\": 0.9975961538461539, \"AUROC_pretty\": \"0.93 (0.84, 1.00)\"}, {\"Model\": \"Many-Feature ML\", \"bootstraps\": 80, \"Chemical class\": \"Inorganic (99)\", \"AUROC\": 0.875, \"AUROC_lower\": 0.6071428571428572, \"AUROC_upper\": 1.0, \"AUROC_pretty\": \"0.88 (0.61, 1.00)\"}, {\"Model\": \"Many-Feature ML\", \"bootstraps\": 42, \"Chemical class\": \"Organosulfide (121)\", \"AUROC\": 0.9545454545454546, \"AUROC_lower\": 0.7777777777777778, \"AUROC_upper\": 1.0, \"AUROC_pretty\": \"0.95 (0.78, 1.00)\"}]}}, \"opt\": {\"defaultStyle\": true, \"actions\": {\"editor\": false, \"source\": true, \"compiled\": true, \"export\": true}, \"mode\": \"vega-lite\", \"renderer\": \"canvas\", \"tooltip\": true}, \"chartID\": \"chart-24de55217cd14a8394953cc1a5c52483\"};\n",
              "  const chartDiv = document.createElement('div');\n",
              "  chartDiv.id = chartID;\n",
              "  colab.output.getActiveOutputArea().appendChild(chartDiv);\n",
              "  const promise = vegaEmbed(\"#\" + chartID, spec, opt).then((view) => {\n",
              "    chartDiv.vegaView = view;\n",
              "  });\n",
              "  colab.output.pauseOutputUntil(promise);\n",
              "})();\n"
            ],
            "text/plain": [
              "<IPython.core.display.Javascript object>"
            ]
          },
          "metadata": {},
          "output_type": "display_data"
        }
      ],
      "source": [
        "chart = alt.Chart(validity_df).mark_rect().encode(\n",
        "    y=alt.Y('Model', sort=[\n",
        "        'Many-Feature ML',\n",
        "        'Transport ML',\n",
        "        'Rule of 3',\n",
        "    ], axis=alt.Axis(tickBand='extent')),\n",
        "    x=alt.X('Chemical class',\n",
        "            sort=alt.EncodingSortField(field=\"AUROC\", op=\"sum\", order='descending'),\n",
        "    axis=alt.Axis(tickBand='extent')),\n",
        "    color=alt.Color('AUROC',\n",
        "                    scale=alt.Scale(scheme='pinkyellowgreen', domain=[0, 1])),\n",
        ").configure_axisX(\n",
        "    labelAngle=-45,\n",
        "    labelAlign=\"right\",\n",
        "    labelOffset=0,\n",
        ").configure_axis(\n",
        "    labelFontSize=8,\n",
        "    labelFont='Arial',\n",
        "    titleFontSize=9,\n",
        "    titleFont='Arial',\n",
        ").configure_legend(\n",
        "    labelFontSize=8,\n",
        "    labelFont='Arial',\n",
        "    titleFontSize=9,\n",
        "    titleFont='Arial',    \n",
        ")\n",
        "\n",
        "chart\n"
      ]
    },
    {
      "cell_type": "markdown",
      "metadata": {
        "id": "svFQtGqoU4-c"
      },
      "source": [
        "# Estimating the number of odorous molecules\n",
        "\n",
        "Here we take a 100,000-element sample of GDB-17 and characterize the number of\n",
        "predicted odorous molecules, as segmented by confidence and Tanimoto distance\n",
        "from the training data."
      ]
    },
    {
      "cell_type": "code",
      "execution_count": null,
      "metadata": {
        "id": "fm02w3Z6VWk5"
      },
      "outputs": [],
      "source": [
        "def _bulk_similarity(\n",
        "    mols1: Iterable[Chem.Mol],\n",
        "    mols2: Optional[Iterable[Chem.Mol]] = None) -> Iterator[np.ndarray]:\n",
        "  if mols2 is None:\n",
        "    mols2 = mols1\n",
        "  get_morgan_fp = functools.partial(Chem.rdMolDescriptors.GetMorganFingerprintAsBitVect, radius=2, nBits=2048)\n",
        "  mol1_fps = map(get_morgan_fp, mols1)\n",
        "  mol2_fps = tuple(map(get_morgan_fp, mols2))\n",
        "  for fp in mol1_fps:\n",
        "    yield DataStructs.BulkTanimotoSimilarity(fp, mol2_fps)\n",
        "\n",
        "\n",
        "def get_maximum_tanimoto_similarity(\n",
        "    molecules: Iterable[Chem.Mol],\n",
        "    reference_set: Optional[Iterable[Chem.Mol]] = None) -> np.ndarray:\n",
        "  \"\"\"Compute maximal similarity to `reference_set` for all given molecules.\n",
        "\n",
        "  Args:\n",
        "    molecules: Set of molecules to compare against a reference set.\n",
        "    reference_set: Reference set of molecules. If not specified, self-similarity\n",
        "      of `molecules` will be computed.\n",
        "\n",
        "  Returns:\n",
        "    np.array of Tanimono similarities of shape (len(molecules),)\n",
        "  \"\"\"\n",
        "  computing_self_similarity = reference_set is None\n",
        "\n",
        "  result = []\n",
        "  for i, similarities in enumerate(_bulk_similarity(molecules, reference_set)):\n",
        "    if computing_self_similarity:\n",
        "      similarities[i] = 0\n",
        "    result.append(max(similarities))\n",
        "  return np.array(result)"
      ]
    },
    {
      "cell_type": "code",
      "execution_count": null,
      "metadata": {
        "id": "g4K3nw2rWzAD"
      },
      "outputs": [],
      "source": [
        "gdb_df = load_csv('data/gdb17_sample.csv').set_index('SMILES')"
      ]
    },
    {
      "cell_type": "code",
      "execution_count": null,
      "metadata": {
        "id": "Z7Aqotv9hf4l"
      },
      "outputs": [],
      "source": [
        "sampling_data = [\n",
        "# heavy atom count, GDB_count, sample size\n",
        "(1, 3, 1,), \n",
        "(2, 6, 3,), \n",
        "(3, 14, 12,), \n",
        "(4, 47, 43,), \n",
        "(5, 219, 157,), \n",
        "(6, 1091, 945,), \n",
        "(7, 6029, 5974,), \n",
        "(8, 37435, 9959,), \n",
        "(9, 243233, 9993,), \n",
        "(10, 1670163, 9999,), \n",
        "(11, 12219460, 10000,), \n",
        "(12, 72051665, 10000,), \n",
        "(13, 836687200, 10000,), \n",
        "(14, 2921398415, 10000,), \n",
        "(15, 15084103347, 10000,), \n",
        "(16, 38033661355, 10000,), \n",
        "(17, 109481780580, 10000,), \n",
        "]\n",
        "sampling_ratios = {HAC: total / sample for HAC, total, sample in sampling_data}"
      ]
    },
    {
      "cell_type": "code",
      "execution_count": null,
      "metadata": {
        "id": "CwUZPX0SW5V3"
      },
      "outputs": [],
      "source": [
        "gdb_df['mols'] = gdb_df.index.map(Chem.MolFromSmiles)\n",
        "gdb_df['max_tanimoto'] = get_maximum_tanimoto_similarity(gdb_df['mols'], clean_df['mols'])\n",
        "gdb_df['Count'] = gdb_df['HAC'].map(sampling_ratios)"
      ]
    },
    {
      "cell_type": "code",
      "execution_count": null,
      "metadata": {
        "colab": {
          "height": 312
        },
        "executionInfo": {
          "elapsed": 384,
          "status": "ok",
          "timestamp": 1646161399131,
          "user": {
            "displayName": "",
            "photoUrl": "",
            "userId": ""
          },
          "user_tz": 300
        },
        "id": "MEhUfHr_Z4g2",
        "outputId": "82571754-e045-4529-b3ce-ae1ba1e30d38"
      },
      "outputs": [
        {
          "data": {
            "text/plain": [
              "Text(0, 0.5, 'Probability of having odor')"
            ]
          },
          "execution_count": 24,
          "metadata": {},
          "output_type": "execute_result"
        },
        {
          "data": {
            "image/png": "[encoded data removed]",
            "text/plain": [
              "<Figure size 600x400 with 2 Axes>"
            ]
          },
          "metadata": {},
          "output_type": "display_data"
        }
      ],
      "source": [
        "ax = sns.histplot(gdb_df, y='transport.ML.odor.probability', x='max_tanimoto', weights='Count', bins=(np.linspace(0, 1, 100), np.linspace(0, 1, 20)), cbar=True)\n",
        "plt.title('Molecules in GDB-17')\n",
        "plt.plot([0.4, 0.4], [0, 1], '--')\n",
        "plt.xlabel('Maximum Tanimoto similarity to training data')\n",
        "plt.ylabel('Probability of having odor')"
      ]
    },
    {
      "cell_type": "code",
      "execution_count": null,
      "metadata": {
        "colab": {
          "height": 350
        },
        "executionInfo": {
          "elapsed": 3764,
          "status": "ok",
          "timestamp": 1646161403084,
          "user": {
            "displayName": "",
            "photoUrl": "",
            "userId": ""
          },
          "user_tz": 300
        },
        "id": "G06L_mTOtqAY",
        "outputId": "3f26e89e-65f3-435f-fd55-1c08888c81a7"
      },
      "outputs": [
        {
          "name": "stderr",
          "output_type": "stream",
          "text": [
            "/export/hda3/borglet/remote_hdd_fs_dirs/0.brianklee_osmos_kernel.kernel.brianklee.706840287074.14b334fb3717c109/mount/server/colab.par:5: FutureWarning: This dataframe has a column name that matches the 'value_name' column name of the resultiing Dataframe. In the future this will raise an error, please set the 'value_name' parameter of DataFrame.melt to a unique name.\n"
          ]
        },
        {
          "data": {
            "text/plain": [
              "Text(0.5, 0, 'Cumulative probability of odor')"
            ]
          },
          "execution_count": 25,
          "metadata": {},
          "output_type": "execute_result"
        },
        {
          "data": {
            "image/png": "[encoded data removed]",
            "text/plain": [
              "<Figure size 600x400 with 1 Axes>"
            ]
          },
          "metadata": {},
          "output_type": "display_data"
        }
      ],
      "source": [
        "legend_name = \"Minimum train similarity\"\n",
        "gdb_with_tanimoto = gdb_df.copy()\n",
        "for threshold in (0, 0.2, 0.3, 0.4):\n",
        "  gdb_with_tanimoto['tanimoto>{}'.format(threshold)] = (gdb_df.max_tanimoto > threshold) * gdb_df.Count\n",
        "melt_df = gdb_with_tanimoto.melt(id_vars='transport.ML.odor.probability', value_vars=['tanimoto>0', 'tanimoto>0.2', 'tanimoto>0.3', 'tanimoto>0.4'], var_name=legend_name, value_name='Count')\n",
        "ax = sns.ecdfplot(data=melt_df, x=\"transport.ML.odor.probability\", hue=legend_name, complementary=True, stat='count', weights='Count', log_scale=(False,True))\n",
        "ax.invert_xaxis()\n",
        "plt.grid(axis='both')\n",
        "plt.ylim([1e2, 1e12])\n",
        "plt.title('Number of odorous molecules in GDB-17')\n",
        "plt.ylabel('Number of molecules')\n",
        "plt.xlabel('Cumulative probability of odor')\n"
      ]
    },
    {
      "cell_type": "code",
      "execution_count": null,
      "metadata": {
        "id": "zjmQ6in7PsM3"
      },
      "outputs": [],
      "source": [
        ""
      ]
    }
  ],
  "metadata": {
    "kernelspec": {
      "display_name": "Python 3",
      "name": "python3"
    }
  },
  "nbformat": 4,
  "nbformat_minor": 0
}
