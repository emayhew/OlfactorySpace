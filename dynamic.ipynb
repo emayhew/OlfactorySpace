{
 "cells": [
  {
   "cell_type": "code",
   "execution_count": 6,
   "metadata": {},
   "outputs": [
    {
     "name": "stdout",
     "output_type": "stream",
     "text": [
      "The autoreload extension is already loaded. To reload it, use:\n",
      "  %reload_ext autoreload\n"
     ]
    }
   ],
   "source": [
    "%load_ext autoreload\n",
    "%autoreload 2"
   ]
  },
  {
   "cell_type": "code",
   "execution_count": 41,
   "metadata": {},
   "outputs": [],
   "source": [
    "from ipywidgets import GridBox, Image, Text, Layout, HTML\n",
    "import pandas as pd\n",
    "import pickle\n",
    "import plotly.graph_objects as go\n",
    "from pyrfume.odorants import smiles_to_image"
   ]
  },
  {
   "cell_type": "code",
   "execution_count": 8,
   "metadata": {},
   "outputs": [],
   "source": [
    "# Load embeddings computed in static.ipynb\n",
    "with open('data/gdb_umap.pkl', 'rb') as f:\n",
    "    gdb_umap = pickle.load(f)\n",
    "with open('data/pf_umap.pkl', 'rb') as f:\n",
    "    pf_umap = pickle.load(f)"
   ]
  },
  {
   "cell_type": "code",
   "execution_count": 26,
   "metadata": {},
   "outputs": [],
   "source": [
    "# Load SMILES <-> PubChem ID mappings for known molecules\n",
    "smiles_to_cids = pd.read_csv('data/pyrfume-filtered-cids.txt', sep='\\t', index_col=0, header=None, names=['SMILES', 'CID']).fillna(0).astype(int)"
   ]
  },
  {
   "cell_type": "code",
   "execution_count": 63,
   "metadata": {},
   "outputs": [
    {
     "data": {
      "text/html": [
       "<style>\n",
       ".my-label{\n",
       "    background-color: white;\n",
       "}\n",
       "a {\n",
       "  text-decoration: underline;\n",
       "}\n",
       "\n",
       "/* unvisited link */\n",
       "a:link {\n",
       "  color: red;\n",
       "}\n",
       "\n",
       "/* visited link */\n",
       "a:visited {\n",
       "  color: green;\n",
       "}\n",
       "\n",
       "/* mouse over link */\n",
       "a:hover {\n",
       "  color: hotpink;\n",
       "}\n",
       "\n",
       "/* selected link */\n",
       "a:active {\n",
       "  color: blue;\n",
       "}\n",
       "</style>\n"
      ],
      "text/plain": [
       "<IPython.core.display.HTML object>"
      ]
     },
     "metadata": {},
     "output_type": "display_data"
    }
   ],
   "source": [
    "%%html\n",
    "<style>\n",
    ".my-label{\n",
    "    background-color: white;\n",
    "}\n",
    "a {\n",
    "  text-decoration: underline;\n",
    "}\n",
    "\n",
    "/* unvisited link */\n",
    "a:link {\n",
    "  color: red;\n",
    "}\n",
    "\n",
    "/* visited link */\n",
    "a:visited {\n",
    "  color: green;\n",
    "}\n",
    "\n",
    "/* mouse over link */\n",
    "a:hover {\n",
    "  color: hotpink;\n",
    "}\n",
    "\n",
    "/* selected link */\n",
    "a:active {\n",
    "  color: blue;\n",
    "}\n",
    "</style>"
   ]
  },
  {
   "cell_type": "code",
   "execution_count": 73,
   "metadata": {},
   "outputs": [
    {
     "data": {
      "application/vnd.jupyter.widget-view+json": {
       "model_id": "405cdf88f4ec48d5819beee1685f59e0",
       "version_major": 2,
       "version_minor": 0
      },
      "text/plain": [
       "GridBox(children=(FigureWidget({\n",
       "    'data': [{'hoverinfo': 'text',\n",
       "              'marker': {'color': array([0…"
      ]
     },
     "metadata": {},
     "output_type": "display_data"
    }
   ],
   "source": [
    "# Dynamic Embedding\n",
    "hover_on = 1  \n",
    "\n",
    "def plot(big_umap, known_umap, skip=10):\n",
    "    big_umap = big_umap.iloc[::skip]\n",
    "    known_umap = known_umap.iloc[::skip]\n",
    "    big_umap = pd.concat([big_umap, known_umap])  # Required to make hovering over known_umap points work correctly.\n",
    "    # The GDB scatter plot\n",
    "    skip = 10\n",
    "    big_scatter = go.Scatter(\n",
    "        x=big_umap.loc[:, 0],\n",
    "        y=big_umap.loc[:, 1],\n",
    "        name='Possible Molecules',\n",
    "        mode=\"markers\",\n",
    "        hoverinfo=\"text\",\n",
    "        opacity=0.5,\n",
    "        marker={\n",
    "            \"size\": 5,\n",
    "            \"line\": {\"width\": 0.5, \"color\": \"white\"},\n",
    "            \"color\": big_umap.loc[:, 'p'],\n",
    "            \"colorscale\": 'magma',\n",
    "            \"colorbar\": {'thickness': 20, 'title': 'p(Odorous)'},\n",
    "        },\n",
    "    )\n",
    "\n",
    "    # The known odorants scatter plot\n",
    "    known_scatter = go.Scattergl(\n",
    "        x=known_umap.loc[:, 0],\n",
    "        y=known_umap.loc[:, 1],\n",
    "        name='Known Odorants',\n",
    "        mode=\"markers\",\n",
    "        hoverinfo=\"text\",\n",
    "        opacity=1,\n",
    "        marker={\n",
    "            \"size\": 5,\n",
    "            \"line\": {\"width\": 0.5, \"color\": \"white\"},\n",
    "            \"color\": \"blue\",\n",
    "        },\n",
    "    )\n",
    "\n",
    "    # The axes, etc.\n",
    "    layout = go.Layout(\n",
    "        xaxis={\"type\": \"linear\", \"title\": \"\", \"showline\": False, \"showticklabels\": False},\n",
    "        yaxis={\"type\": \"linear\", \"title\": \"\", \"showline\": False, \"showticklabels\": False},\n",
    "        margin={\"l\": 40, \"b\": 40, \"t\": 10, \"r\": 10},\n",
    "        legend={\"x\": 0, \"y\": 1, 'font':{'size':15, 'color': 'white'}},\n",
    "        hovermode=\"closest\",\n",
    "        paper_bgcolor=\"rgba(0,0,0,0)\",\n",
    "        plot_bgcolor=\"rgba(10,10,10,1)\",\n",
    "        width=1000,\n",
    "        height=1000,\n",
    "        xaxis_showgrid=False,\n",
    "        yaxis_showgrid=False,\n",
    "        xaxis_zeroline=False,\n",
    "        yaxis_zeroline=False\n",
    "    )\n",
    "\n",
    "    fig = go.FigureWidget(data=[big_scatter, known_scatter], layout=layout)\n",
    "    fig.layout.hovermode = 'closest'\n",
    "\n",
    "    # The 2D drawing of the molecule\n",
    "    first_smiles = \"CCCCO\"\n",
    "    image_widget = Image(\n",
    "        value=smiles_to_image(first_smiles),\n",
    "        layout=Layout(height=\"200px\", width=\"200px\", left='50px', top='-315px')\n",
    "        )\n",
    "    \n",
    "    # The SMILES string\n",
    "    smiles_widget = Text(\n",
    "        value=first_smiles,\n",
    "        placeholder=first_smiles,\n",
    "        description='SMILES:',\n",
    "        disabled=False,\n",
    "        style = {'description_width': '57px'},\n",
    "        layout=Layout(width='500px', left='50px', top='-314px')\n",
    "    )\n",
    "    smiles_widget.add_class('my-label')\n",
    "    \n",
    "    # The PubChem ID, if available\n",
    "    cid_widget = HTML(\n",
    "        value='',\n",
    "        placeholder='',\n",
    "        description='PubChem ID:',\n",
    "        disabled=False,\n",
    "        style = {'description_width': '85px'},\n",
    "        layout=Layout(width='200px', left='50px', top='-314px')\n",
    "    )\n",
    "    cid_widget.add_class('my-label')\n",
    "\n",
    "    def hover_fn(trace, points, state):\n",
    "        \"\"\"Callback to execute when hovering over a point\"\"\"\n",
    "        try:\n",
    "            ind = points.point_inds[0]\n",
    "            if trace.name == 'Possible Molecules':\n",
    "                use = big_umap\n",
    "            else:\n",
    "                use = known_umap\n",
    "            smiles = use.index[ind]\n",
    "            image_widget.value = smiles_to_image(smiles, size=200)\n",
    "            smiles_widget.value = smiles\n",
    "            try:\n",
    "                cid = smiles_to_cids.loc[smiles]\n",
    "                url = \"https://pubchem.ncbi.nlm.nih.gov/compound/%d\" % cid\n",
    "                cid_widget.value = '<a href=\"%s\" target=\"_blank\"><p style=''>%d</p></a>' % (url, cid)\n",
    "                #js = 'window.open(\"%s\",\"_blank\")' % url\n",
    "                #cid_widget.value = '<button class=\"btn btn-success\" onclick=\"%s\">%d</button>' % (js, cid)\n",
    "            except:\n",
    "                cid_widget.value = 'N/A'\n",
    "        except IndexError:\n",
    "            pass\n",
    "        except Exception as e:\n",
    "            print(e)\n",
    "                  \n",
    "    def click_fn(trace, points, state):\n",
    "        \"\"\"Callback to execute when clicking on a point\"\"\"\n",
    "        global hover_on\n",
    "        if hover_on:\n",
    "            fig.data[0].on_hover(None)\n",
    "            hover_on = 0\n",
    "        else:\n",
    "            fig.data[0].on_hover(hover_fn)\n",
    "            hover_on = 1\n",
    "            \n",
    "    fig.data[0].on_hover(hover_fn)\n",
    "    fig.data[0].on_click(click_fn)\n",
    "    canvas = GridBox([fig, image_widget, smiles_widget, cid_widget], layout={'gridgap': '0'})\n",
    "    return canvas\n",
    "\n",
    "plot(gdb_umap, pf_umap, skip=5)"
   ]
  }
 ],
 "metadata": {
  "kernelspec": {
   "display_name": "Python 3",
   "language": "python",
   "name": "python3"
  },
  "language_info": {
   "codemirror_mode": {
    "name": "ipython",
    "version": 3
   },
   "file_extension": ".py",
   "mimetype": "text/x-python",
   "name": "python",
   "nbconvert_exporter": "python",
   "pygments_lexer": "ipython3",
   "version": "3.8.3"
  }
 },
 "nbformat": 4,
 "nbformat_minor": 4
}
